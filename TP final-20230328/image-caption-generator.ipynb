{
 "cells": [
  {
   "cell_type": "markdown",
   "id": "1b26220a",
   "metadata": {
    "_cell_guid": "b1076dfc-b9ad-4769-8c92-a6c4dae69d19",
    "_uuid": "8f2839f25d086af736a60e9eeb907d3b93b6e0e5",
    "papermill": {
     "duration": 0.047597,
     "end_time": "2023-01-11T19:22:57.491337",
     "exception": false,
     "start_time": "2023-01-11T19:22:57.443740",
     "status": "completed"
    },
    "tags": []
   },
   "source": [
    "# Image Caption Generator \n",
    "\n",
    "What is image caption generation?\n",
    "Image Captioning is the task of describing the content of an image in words. This task lies at the intersection of computer vision and natural language processing. Most image captioning systems use an encoder-decoder framework, where an input image is encoded into an intermediate representation of the information in the image, and then decoded into a descriptive text sequence. \n",
    "\n",
    "This is what we are going to implement in this Python based project where we will use deep learning techniques of Convolutional Neural Networks and a type of Recurrent Neural Network (LSTM) together. \n",
    "source : https://paperswithcode.com/task/image-captioning\n"
   ]
  },
  {
   "cell_type": "markdown",
   "id": "347a3313",
   "metadata": {
    "papermill": {
     "duration": 0.042607,
     "end_time": "2023-01-11T19:22:57.579133",
     "exception": false,
     "start_time": "2023-01-11T19:22:57.536526",
     "status": "completed"
    },
    "tags": []
   },
   "source": [
    "### Image Caption Generator with CNN\n",
    "\n",
    "The objective of our project is to learn the concepts of a CNN and LSTM model and build a working model of Image caption generator by implementing CNN with LSTM."
   ]
  },
  {
   "cell_type": "markdown",
   "id": "611dc8ab",
   "metadata": {
    "papermill": {
     "duration": 0.042353,
     "end_time": "2023-01-11T19:22:57.665332",
     "exception": false,
     "start_time": "2023-01-11T19:22:57.622979",
     "status": "completed"
    },
    "tags": []
   },
   "source": [
    "# The Dataset of Python based Project\n",
    "\n",
    "For the image caption generator, we will be using the Flickr_8K dataset. \n",
    "\n",
    "You can download it from here : \n",
    "\n",
    "* <a href=\"https://github.com/jbrownlee/Datasets/releases/download/Flickr8k/Flickr8k_Dataset.zip\">Flickr8k_Dataset.zip</a> \n",
    "(Size: 1GB)."
   ]
  },
  {
   "cell_type": "markdown",
   "id": "a3ae6e3e",
   "metadata": {
    "papermill": {
     "duration": 0.045786,
     "end_time": "2023-01-11T19:22:57.754583",
     "exception": false,
     "start_time": "2023-01-11T19:22:57.708797",
     "status": "completed"
    },
    "tags": []
   },
   "source": [
    "#### Let's Begin to code."
   ]
  },
  {
   "cell_type": "markdown",
   "id": "ee3c4cef",
   "metadata": {
    "papermill": {
     "duration": 0.044353,
     "end_time": "2023-01-11T19:22:57.842732",
     "exception": false,
     "start_time": "2023-01-11T19:22:57.798379",
     "status": "completed"
    },
    "tags": []
   },
   "source": [
    "# Import Modules "
   ]
  },
  {
   "cell_type": "code",
   "execution_count": null,
   "id": "3e6cc71e",
   "metadata": {
    "execution": {
     "iopub.execute_input": "2023-01-11T19:22:57.931855Z",
     "iopub.status.busy": "2023-01-11T19:22:57.931428Z",
     "iopub.status.idle": "2023-01-11T19:23:03.488541Z",
     "shell.execute_reply": "2023-01-11T19:23:03.487789Z"
    },
    "papermill": {
     "duration": 5.60463,
     "end_time": "2023-01-11T19:23:03.491160",
     "exception": false,
     "start_time": "2023-01-11T19:22:57.886530",
     "status": "completed"
    },
    "tags": []
   },
   "outputs": [],
   "source": [
    "import os   # handling the files\n",
    "import pickle # storing numpy features\n",
    "import numpy as np\n",
    "from tqdm.notebook import tqdm # how much data is process till now\n",
    "\n",
    "from tensorflow.keras.applications.vgg16 import VGG16 , preprocess_input # extract features from image data.\n",
    "from tensorflow.keras.preprocessing.image import load_img , img_to_array\n",
    "from tensorflow.keras.preprocessing.text import Tokenizer\n",
    "from tensorflow.keras.preprocessing.sequence import pad_sequences\n",
    "from tensorflow.keras.models import Model\n",
    "from tensorflow.keras.utils import to_categorical, plot_model\n",
    "from tensorflow.keras.layers import Input , Dense , LSTM , Embedding , Dropout , add"
   ]
  },
  {
   "cell_type": "markdown",
   "id": "e60e0169",
   "metadata": {
    "papermill": {
     "duration": 0.042534,
     "end_time": "2023-01-11T19:23:03.577393",
     "exception": false,
     "start_time": "2023-01-11T19:23:03.534859",
     "status": "completed"
    },
    "tags": []
   },
   "source": [
    "**os** - used to handle files using system commands.\n",
    "\n",
    "**pickle** - used to store numpy features extracted\n",
    "\n",
    "**numpy** - used to perform a wide variety of mathematical operations on arrays\n",
    "\n",
    "**tqdm** - progress bar decorator for iterators. Includes a default range iterator printing to stderr.\n",
    "\n",
    "**VGG16, preprocess_input** - imported modules for feature extraction from the image data\n",
    "\n",
    "**load_img, img_to_array** - used for loading the image and converting the image to a numpy array\n",
    "\n",
    "**Tokenizer** - used for loading the text as convert them into a token\n",
    "\n",
    "**pad_sequences** - used for equal distribution of words in sentences filling the remaining spaces with zeros\n",
    "\n",
    "**plot_model** - used to visualize the architecture of the model through different images"
   ]
  },
  {
   "cell_type": "markdown",
   "id": "caf3c53d",
   "metadata": {
    "papermill": {
     "duration": 0.04269,
     "end_time": "2023-01-11T19:23:03.663489",
     "exception": false,
     "start_time": "2023-01-11T19:23:03.620799",
     "status": "completed"
    },
    "tags": []
   },
   "source": [
    "#### Now we must set the directories to use the data"
   ]
  },
  {
   "cell_type": "code",
   "execution_count": null,
   "id": "6568a076",
   "metadata": {
    "execution": {
     "iopub.execute_input": "2023-01-11T19:23:03.750606Z",
     "iopub.status.busy": "2023-01-11T19:23:03.750349Z",
     "iopub.status.idle": "2023-01-11T19:23:03.753860Z",
     "shell.execute_reply": "2023-01-11T19:23:03.753146Z"
    },
    "papermill": {
     "duration": 0.049021,
     "end_time": "2023-01-11T19:23:03.755623",
     "exception": false,
     "start_time": "2023-01-11T19:23:03.706602",
     "status": "completed"
    },
    "tags": []
   },
   "outputs": [],
   "source": [
    "BASE_DIR = # YOUR CODE HERE\n",
    "WORKING_DIR = # YOUR CODE HERE"
   ]
  },
  {
   "cell_type": "markdown",
   "id": "5c2a282c",
   "metadata": {
    "papermill": {
     "duration": 0.043066,
     "end_time": "2023-01-11T19:23:03.841239",
     "exception": false,
     "start_time": "2023-01-11T19:23:03.798173",
     "status": "completed"
    },
    "tags": []
   },
   "source": [
    "# Extract Image Features\n",
    "\n",
    "We have to load and restructure the model\n",
    "\n",
    "VGG-16 is a convolutional neural network that is 16 layers deep. You can load a pretrained version of the network trained on more than a million images from the ImageNet database. The pretrained network can classify images into 1000 object categories, such as keyboard, mouse, pencil, and many animals."
   ]
  },
  {
   "cell_type": "code",
   "execution_count": null,
   "id": "e3753ab7",
   "metadata": {
    "execution": {
     "iopub.execute_input": "2023-01-11T19:23:03.929564Z",
     "iopub.status.busy": "2023-01-11T19:23:03.929341Z",
     "iopub.status.idle": "2023-01-11T19:23:11.697181Z",
     "shell.execute_reply": "2023-01-11T19:23:11.696208Z"
    },
    "papermill": {
     "duration": 7.815048,
     "end_time": "2023-01-11T19:23:11.699901",
     "exception": false,
     "start_time": "2023-01-11T19:23:03.884853",
     "status": "completed"
    },
    "tags": []
   },
   "outputs": [],
   "source": [
    "# Load vgg16 Model\n",
    "# YOUR CODE HERE\n",
    "\n",
    "# restructure model\n",
    "# YOUR CODE HERE\n",
    "\n",
    "# Summerize\n",
    "# YOUR CODE HERE"
   ]
  },
  {
   "cell_type": "markdown",
   "id": "1219ace5",
   "metadata": {
    "papermill": {
     "duration": 0.065737,
     "end_time": "2023-01-11T19:23:11.832613",
     "exception": false,
     "start_time": "2023-01-11T19:23:11.766876",
     "status": "completed"
    },
    "tags": []
   },
   "source": [
    "+ Fully connected layer of the VGG16 model is not needed, just the previous layers to extract feature results.\n",
    "\n",
    "+ By preference you may include more layers, but for quicker results avoid adding the unnecessary layers."
   ]
  },
  {
   "cell_type": "markdown",
   "id": "32d43788",
   "metadata": {
    "papermill": {
     "duration": 0.065928,
     "end_time": "2023-01-11T19:23:11.964029",
     "exception": false,
     "start_time": "2023-01-11T19:23:11.898101",
     "status": "completed"
    },
    "tags": []
   },
   "source": [
    "# Extract the image features\n",
    "Now we extract the image features and load the data for preprocess"
   ]
  },
  {
   "cell_type": "code",
   "execution_count": null,
   "id": "37926522",
   "metadata": {
    "execution": {
     "iopub.execute_input": "2023-01-11T19:23:12.099290Z",
     "iopub.status.busy": "2023-01-11T19:23:12.099038Z",
     "iopub.status.idle": "2023-01-11T19:31:03.053072Z",
     "shell.execute_reply": "2023-01-11T19:31:03.052408Z"
    },
    "papermill": {
     "duration": 471.023247,
     "end_time": "2023-01-11T19:31:03.054845",
     "exception": false,
     "start_time": "2023-01-11T19:23:12.031598",
     "status": "completed"
    },
    "tags": []
   },
   "outputs": [],
   "source": [
    "# extract features from image\n",
    "features = {} # Dictionary 'features' is created and will be loaded with the extracted features of image data\n",
    "directory = os.path.join(BASE_DIR, 'Images')\n",
    "\n",
    "for img_name in tqdm(os.listdir(directory)):\n",
    "    # load the image from file\n",
    "    # YOUR CODE HERE\n",
    "    # convert image pixels to numpy array\n",
    "    # YOUR CODE HERE\n",
    "    # reshape data for model\n",
    "    # YOUR CODE HERE\n",
    "    # preprocess image for vgg\n",
    "    # YOUR CODE HERE\n",
    "    # extract features\n",
    "    # YOUR CODE HERE\n",
    "    # get image ID\n",
    "    # YOUR CODE HERE\n",
    "    # store feature\n",
    "    # YOUR CODE HERE"
   ]
  },
  {
   "cell_type": "code",
   "execution_count": null,
   "id": "1b40286d",
   "metadata": {
    "execution": {
     "iopub.execute_input": "2023-01-11T19:31:03.423416Z",
     "iopub.status.busy": "2023-01-11T19:31:03.423155Z",
     "iopub.status.idle": "2023-01-11T19:31:03.759167Z",
     "shell.execute_reply": "2023-01-11T19:31:03.758424Z"
    },
    "papermill": {
     "duration": 0.40495,
     "end_time": "2023-01-11T19:31:03.761216",
     "exception": false,
     "start_time": "2023-01-11T19:31:03.356266",
     "status": "completed"
    },
    "tags": []
   },
   "outputs": [],
   "source": [
    "# store features in pickle\n",
    "# YOUR CODE HERE"
   ]
  },
  {
   "cell_type": "markdown",
   "id": "e2b11855",
   "metadata": {
    "papermill": {
     "duration": 0.067205,
     "end_time": "2023-01-11T19:31:03.895462",
     "exception": false,
     "start_time": "2023-01-11T19:31:03.828257",
     "status": "completed"
    },
    "tags": []
   },
   "source": [
    "Extracted features are not stored in the disk, so re-extraction of features can extend running time\n",
    "\n",
    "Dumps and store your dictionary in a pickle for reloading it to save time"
   ]
  },
  {
   "cell_type": "code",
   "execution_count": null,
   "id": "fdf6e4ad",
   "metadata": {
    "execution": {
     "iopub.execute_input": "2023-01-11T19:31:04.029112Z",
     "iopub.status.busy": "2023-01-11T19:31:04.028859Z",
     "iopub.status.idle": "2023-01-11T19:31:04.187991Z",
     "shell.execute_reply": "2023-01-11T19:31:04.187176Z"
    },
    "papermill": {
     "duration": 0.228554,
     "end_time": "2023-01-11T19:31:04.190360",
     "exception": false,
     "start_time": "2023-01-11T19:31:03.961806",
     "status": "completed"
    },
    "tags": []
   },
   "outputs": [],
   "source": [
    "# load features from pickle\n",
    "# YOUR CODE HERE"
   ]
  },
  {
   "cell_type": "markdown",
   "id": "92a83ce5",
   "metadata": {
    "papermill": {
     "duration": 0.066654,
     "end_time": "2023-01-11T19:31:04.324317",
     "exception": false,
     "start_time": "2023-01-11T19:31:04.257663",
     "status": "completed"
    },
    "tags": []
   },
   "source": [
    "Load all your stored feature data to your project for quicker runtime "
   ]
  },
  {
   "cell_type": "markdown",
   "id": "af496d4c",
   "metadata": {
    "papermill": {
     "duration": 0.065924,
     "end_time": "2023-01-11T19:31:04.457188",
     "exception": false,
     "start_time": "2023-01-11T19:31:04.391264",
     "status": "completed"
    },
    "tags": []
   },
   "source": [
    "## Load the Captions Data\n",
    "\n",
    "Let us store the captions data from the text file"
   ]
  },
  {
   "cell_type": "code",
   "execution_count": null,
   "id": "fada295a",
   "metadata": {
    "execution": {
     "iopub.execute_input": "2023-01-11T19:31:04.594820Z",
     "iopub.status.busy": "2023-01-11T19:31:04.594564Z",
     "iopub.status.idle": "2023-01-11T19:31:04.649329Z",
     "shell.execute_reply": "2023-01-11T19:31:04.648596Z"
    },
    "papermill": {
     "duration": 0.126056,
     "end_time": "2023-01-11T19:31:04.651168",
     "exception": false,
     "start_time": "2023-01-11T19:31:04.525112",
     "status": "completed"
    },
    "tags": []
   },
   "outputs": [],
   "source": [
    "# YOUR CODE HERE"
   ]
  },
  {
   "cell_type": "markdown",
   "id": "638b923a",
   "metadata": {
    "papermill": {
     "duration": 0.065794,
     "end_time": "2023-01-11T19:31:04.783141",
     "exception": false,
     "start_time": "2023-01-11T19:31:04.717347",
     "status": "completed"
    },
    "tags": []
   },
   "source": [
    "### Now we split and append the captions data with the image"
   ]
  },
  {
   "cell_type": "code",
   "execution_count": null,
   "id": "e3adba9c",
   "metadata": {
    "execution": {
     "iopub.execute_input": "2023-01-11T19:31:04.917829Z",
     "iopub.status.busy": "2023-01-11T19:31:04.917052Z",
     "iopub.status.idle": "2023-01-11T19:31:05.033032Z",
     "shell.execute_reply": "2023-01-11T19:31:05.032205Z"
    },
    "papermill": {
     "duration": 0.187975,
     "end_time": "2023-01-11T19:31:05.037091",
     "exception": false,
     "start_time": "2023-01-11T19:31:04.849116",
     "status": "completed"
    },
    "tags": []
   },
   "outputs": [],
   "source": [
    "# create mapping of image to captions\n",
    "mapping = {}\n",
    "# process lines\n",
    "for line in tqdm(captions_doc.split('\\n')):\n",
    "    # split the line by comma(,)\n",
    "    # YOUR CODE HERE\n",
    "    if len(line) < 2:\n",
    "        continue\n",
    "    image_id, caption = tokens[0], tokens[1:]\n",
    "    # remove extension from image ID\n",
    "    # YOUR CODE HERE\n",
    "    # convert caption list to string\n",
    "    # YOUR CODE HERE\n",
    "    # create list if needed\n",
    "    # YOUR CODE HERE\n",
    "    # store the caption\n",
    "    # YOUR CODE HERE"
   ]
  },
  {
   "cell_type": "markdown",
   "id": "168c7325",
   "metadata": {
    "papermill": {
     "duration": 0.065901,
     "end_time": "2023-01-11T19:31:05.170282",
     "exception": false,
     "start_time": "2023-01-11T19:31:05.104381",
     "status": "completed"
    },
    "tags": []
   },
   "source": [
    "+ Dictionary 'mapping' is created with key as image_id and values as the corresponding caption text\n",
    "\n",
    "+ Same image may have multiple captions, **if image_id not in mapping: mapping[image_id] = []** creates a list for appending captions to the corresponding image"
   ]
  },
  {
   "cell_type": "code",
   "execution_count": null,
   "id": "09ae4d8a",
   "metadata": {
    "execution": {
     "iopub.execute_input": "2023-01-11T19:31:05.437239Z",
     "iopub.status.busy": "2023-01-11T19:31:05.436576Z",
     "iopub.status.idle": "2023-01-11T19:31:05.445282Z",
     "shell.execute_reply": "2023-01-11T19:31:05.444589Z"
    },
    "papermill": {
     "duration": 0.077837,
     "end_time": "2023-01-11T19:31:05.446983",
     "exception": false,
     "start_time": "2023-01-11T19:31:05.369146",
     "status": "completed"
    },
    "tags": []
   },
   "outputs": [],
   "source": [
    "# Print the number of images loaded\n",
    "# YOUR CODE HERE"
   ]
  },
  {
   "cell_type": "markdown",
   "id": "3b455ad9",
   "metadata": {
    "papermill": {
     "duration": 0.066414,
     "end_time": "2023-01-11T19:31:05.580050",
     "exception": false,
     "start_time": "2023-01-11T19:31:05.513636",
     "status": "completed"
    },
    "tags": []
   },
   "source": [
    "# Preprocess Text Data"
   ]
  },
  {
   "cell_type": "code",
   "execution_count": null,
   "id": "5f95ae68",
   "metadata": {
    "execution": {
     "iopub.execute_input": "2023-01-11T19:31:05.713608Z",
     "iopub.status.busy": "2023-01-11T19:31:05.712944Z",
     "iopub.status.idle": "2023-01-11T19:31:05.718597Z",
     "shell.execute_reply": "2023-01-11T19:31:05.717823Z"
    },
    "papermill": {
     "duration": 0.074419,
     "end_time": "2023-01-11T19:31:05.720537",
     "exception": false,
     "start_time": "2023-01-11T19:31:05.646118",
     "status": "completed"
    },
    "tags": []
   },
   "outputs": [],
   "source": [
    "def clean(mapping):\n",
    "    for key, captions in mapping.items():\n",
    "        for i in range(len(captions)):\n",
    "            # take one caption at a time\n",
    "            # YOUR CODE HERE\n",
    "            # preprocessing steps\n",
    "            # convert to lowercase\n",
    "            # YOUR CODE HERE\n",
    "            # delete digits, special chars, etc., \n",
    "            # YOUR CODE HERE\n",
    "            # delete additional spaces\n",
    "            # YOUR CODE HERE\n",
    "            # add start and end tags to the caption\n",
    "            # YOUR CODE HERE"
   ]
  },
  {
   "cell_type": "markdown",
   "id": "2cc8cfe5",
   "metadata": {
    "papermill": {
     "duration": 0.06737,
     "end_time": "2023-01-11T19:31:05.853980",
     "exception": false,
     "start_time": "2023-01-11T19:31:05.786610",
     "status": "completed"
    },
    "tags": []
   },
   "source": [
    "Defined to clean and convert the text for quicker process and better results"
   ]
  },
  {
   "cell_type": "markdown",
   "id": "07b0830b",
   "metadata": {
    "papermill": {
     "duration": 0.066683,
     "end_time": "2023-01-11T19:31:05.987806",
     "exception": false,
     "start_time": "2023-01-11T19:31:05.921123",
     "status": "completed"
    },
    "tags": []
   },
   "source": [
    "Let us visualize the text **before** and **after** cleaning"
   ]
  },
  {
   "cell_type": "code",
   "execution_count": null,
   "id": "4cb2551f",
   "metadata": {
    "execution": {
     "iopub.execute_input": "2023-01-11T19:31:06.122338Z",
     "iopub.status.busy": "2023-01-11T19:31:06.122108Z",
     "iopub.status.idle": "2023-01-11T19:31:06.127201Z",
     "shell.execute_reply": "2023-01-11T19:31:06.126520Z"
    },
    "papermill": {
     "duration": 0.074858,
     "end_time": "2023-01-11T19:31:06.129366",
     "exception": false,
     "start_time": "2023-01-11T19:31:06.054508",
     "status": "completed"
    },
    "tags": []
   },
   "outputs": [],
   "source": [
    "# before preprocess of text\n",
    "# YOUR CODE HERE"
   ]
  },
  {
   "cell_type": "code",
   "execution_count": null,
   "id": "c76ba8a4",
   "metadata": {
    "execution": {
     "iopub.execute_input": "2023-01-11T19:31:06.267742Z",
     "iopub.status.busy": "2023-01-11T19:31:06.267492Z",
     "iopub.status.idle": "2023-01-11T19:31:06.408169Z",
     "shell.execute_reply": "2023-01-11T19:31:06.407314Z"
    },
    "papermill": {
     "duration": 0.214397,
     "end_time": "2023-01-11T19:31:06.410575",
     "exception": false,
     "start_time": "2023-01-11T19:31:06.196178",
     "status": "completed"
    },
    "tags": []
   },
   "outputs": [],
   "source": [
    "# preprocess the text\n",
    "# YOUR CODE HERE"
   ]
  },
  {
   "cell_type": "code",
   "execution_count": null,
   "id": "d5f4637d",
   "metadata": {
    "execution": {
     "iopub.execute_input": "2023-01-11T19:31:06.564618Z",
     "iopub.status.busy": "2023-01-11T19:31:06.564383Z",
     "iopub.status.idle": "2023-01-11T19:31:06.569647Z",
     "shell.execute_reply": "2023-01-11T19:31:06.568924Z"
    },
    "papermill": {
     "duration": 0.082214,
     "end_time": "2023-01-11T19:31:06.572037",
     "exception": false,
     "start_time": "2023-01-11T19:31:06.489823",
     "status": "completed"
    },
    "tags": []
   },
   "outputs": [],
   "source": [
    "# after preprocess of text\n",
    "# YOUR CODE HERE"
   ]
  },
  {
   "cell_type": "code",
   "execution_count": null,
   "id": "538c1cc0",
   "metadata": {
    "execution": {
     "iopub.execute_input": "2023-01-11T19:31:06.867090Z",
     "iopub.status.busy": "2023-01-11T19:31:06.866832Z",
     "iopub.status.idle": "2023-01-11T19:31:06.882308Z",
     "shell.execute_reply": "2023-01-11T19:31:06.881550Z"
    },
    "papermill": {
     "duration": 0.09076,
     "end_time": "2023-01-11T19:31:06.884100",
     "exception": false,
     "start_time": "2023-01-11T19:31:06.793340",
     "status": "completed"
    },
    "tags": []
   },
   "outputs": [],
   "source": [
    "# Store the preprocessed captions into a list named \"all_captions\"\n",
    "# YOUR CODE HERE"
   ]
  },
  {
   "cell_type": "code",
   "execution_count": null,
   "id": "3c2fc747",
   "metadata": {
    "execution": {
     "iopub.execute_input": "2023-01-11T19:31:07.023425Z",
     "iopub.status.busy": "2023-01-11T19:31:07.023211Z",
     "iopub.status.idle": "2023-01-11T19:31:07.028040Z",
     "shell.execute_reply": "2023-01-11T19:31:07.027286Z"
    },
    "papermill": {
     "duration": 0.077024,
     "end_time": "2023-01-11T19:31:07.030092",
     "exception": false,
     "start_time": "2023-01-11T19:31:06.953068",
     "status": "completed"
    },
    "tags": []
   },
   "outputs": [],
   "source": [
    "# Print the number of unique captions stored\n",
    "# YOUR CODE HERE"
   ]
  },
  {
   "cell_type": "markdown",
   "id": "e4c2f601",
   "metadata": {
    "papermill": {
     "duration": 0.068525,
     "end_time": "2023-01-11T19:31:07.303722",
     "exception": false,
     "start_time": "2023-01-11T19:31:07.235197",
     "status": "completed"
    },
    "tags": []
   },
   "source": [
    "# Visualize some captions\n",
    "Print the first ten captions"
   ]
  },
  {
   "cell_type": "code",
   "execution_count": null,
   "id": "758dfbf7",
   "metadata": {
    "execution": {
     "iopub.execute_input": "2023-01-11T19:31:07.442826Z",
     "iopub.status.busy": "2023-01-11T19:31:07.442550Z",
     "iopub.status.idle": "2023-01-11T19:31:07.448211Z",
     "shell.execute_reply": "2023-01-11T19:31:07.447493Z"
    },
    "papermill": {
     "duration": 0.078913,
     "end_time": "2023-01-11T19:31:07.450763",
     "exception": false,
     "start_time": "2023-01-11T19:31:07.371850",
     "status": "completed"
    },
    "tags": []
   },
   "outputs": [],
   "source": [
    "# YOUR CODE HERE"
   ]
  },
  {
   "cell_type": "markdown",
   "id": "d8e60b2d",
   "metadata": {
    "papermill": {
     "duration": 0.069457,
     "end_time": "2023-01-11T19:31:07.589690",
     "exception": false,
     "start_time": "2023-01-11T19:31:07.520233",
     "status": "completed"
    },
    "tags": []
   },
   "source": [
    "# Processing of Text Data\n",
    "Now we start processing the text data"
   ]
  },
  {
   "cell_type": "code",
   "execution_count": null,
   "id": "c0e92c58",
   "metadata": {
    "execution": {
     "iopub.execute_input": "2023-01-11T19:31:07.733077Z",
     "iopub.status.busy": "2023-01-11T19:31:07.732418Z",
     "iopub.status.idle": "2023-01-11T19:31:08.337225Z",
     "shell.execute_reply": "2023-01-11T19:31:08.336446Z"
    },
    "papermill": {
     "duration": 0.679052,
     "end_time": "2023-01-11T19:31:08.339369",
     "exception": false,
     "start_time": "2023-01-11T19:31:07.660317",
     "status": "completed"
    },
    "tags": []
   },
   "outputs": [],
   "source": [
    "# tokenize the text\n",
    "# YOUR CODE HERE"
   ]
  },
  {
   "cell_type": "code",
   "execution_count": null,
   "id": "98b12aec",
   "metadata": {
    "execution": {
     "iopub.execute_input": "2023-01-11T19:31:08.480227Z",
     "iopub.status.busy": "2023-01-11T19:31:08.479975Z",
     "iopub.status.idle": "2023-01-11T19:31:08.485154Z",
     "shell.execute_reply": "2023-01-11T19:31:08.484303Z"
    },
    "papermill": {
     "duration": 0.079357,
     "end_time": "2023-01-11T19:31:08.487882",
     "exception": false,
     "start_time": "2023-01-11T19:31:08.408525",
     "status": "completed"
    },
    "tags": []
   },
   "outputs": [],
   "source": [
    "# Print the number of unique words\n",
    "# YOUR CODE HERE"
   ]
  },
  {
   "cell_type": "code",
   "execution_count": null,
   "id": "441cc999",
   "metadata": {
    "execution": {
     "iopub.execute_input": "2023-01-11T19:31:08.761728Z",
     "iopub.status.busy": "2023-01-11T19:31:08.761499Z",
     "iopub.status.idle": "2023-01-11T19:31:08.794487Z",
     "shell.execute_reply": "2023-01-11T19:31:08.793853Z"
    },
    "papermill": {
     "duration": 0.10363,
     "end_time": "2023-01-11T19:31:08.796181",
     "exception": false,
     "start_time": "2023-01-11T19:31:08.692551",
     "status": "completed"
    },
    "tags": []
   },
   "outputs": [],
   "source": [
    "# get maximum length of the caption available\n",
    "# YOUR CODE HERE"
   ]
  },
  {
   "cell_type": "markdown",
   "id": "b51985d0",
   "metadata": {
    "papermill": {
     "duration": 0.068678,
     "end_time": "2023-01-11T19:31:08.932923",
     "exception": false,
     "start_time": "2023-01-11T19:31:08.864245",
     "status": "completed"
    },
    "tags": []
   },
   "source": [
    "+ Finding the maximum length of the captions, used for reference for the padding sequence."
   ]
  },
  {
   "cell_type": "markdown",
   "id": "d0bbc6bd",
   "metadata": {
    "papermill": {
     "duration": 0.069118,
     "end_time": "2023-01-11T19:31:09.071066",
     "exception": false,
     "start_time": "2023-01-11T19:31:09.001948",
     "status": "completed"
    },
    "tags": []
   },
   "source": [
    "# Train Test Split"
   ]
  },
  {
   "cell_type": "markdown",
   "id": "3bc831d0",
   "metadata": {
    "papermill": {
     "duration": 0.068488,
     "end_time": "2023-01-11T19:31:09.208411",
     "exception": false,
     "start_time": "2023-01-11T19:31:09.139923",
     "status": "completed"
    },
    "tags": []
   },
   "source": [
    "#### After preprocessing the data now we will train, test and split"
   ]
  },
  {
   "cell_type": "code",
   "execution_count": null,
   "id": "b200960d",
   "metadata": {
    "execution": {
     "iopub.execute_input": "2023-01-11T19:31:09.346965Z",
     "iopub.status.busy": "2023-01-11T19:31:09.346716Z",
     "iopub.status.idle": "2023-01-11T19:31:09.351365Z",
     "shell.execute_reply": "2023-01-11T19:31:09.350522Z"
    },
    "papermill": {
     "duration": 0.075879,
     "end_time": "2023-01-11T19:31:09.353463",
     "exception": false,
     "start_time": "2023-01-11T19:31:09.277584",
     "status": "completed"
    },
    "tags": []
   },
   "outputs": [],
   "source": [
    "# YOUR CODE HERE"
   ]
  },
  {
   "cell_type": "markdown",
   "id": "82df3811",
   "metadata": {
    "papermill": {
     "duration": 0.068704,
     "end_time": "2023-01-11T19:31:09.490595",
     "exception": false,
     "start_time": "2023-01-11T19:31:09.421891",
     "status": "completed"
    },
    "tags": []
   },
   "source": [
    "**Now we will define a batch and include the padding sequence**"
   ]
  },
  {
   "cell_type": "code",
   "execution_count": null,
   "id": "f1504997",
   "metadata": {
    "execution": {
     "iopub.execute_input": "2023-01-11T19:31:09.629685Z",
     "iopub.status.busy": "2023-01-11T19:31:09.629461Z",
     "iopub.status.idle": "2023-01-11T19:31:09.637388Z",
     "shell.execute_reply": "2023-01-11T19:31:09.636624Z"
    },
    "papermill": {
     "duration": 0.078851,
     "end_time": "2023-01-11T19:31:09.639118",
     "exception": false,
     "start_time": "2023-01-11T19:31:09.560267",
     "status": "completed"
    },
    "tags": []
   },
   "outputs": [],
   "source": [
    "# create data generator to get data in batch (avoids session crash)\n",
    "def data_generator(data_keys, mapping, features, tokenizer, max_length, vocab_size, batch_size):\n",
    "    # loop over images\n",
    "    X1, X2, y = list(), list(), list()\n",
    "    n = 0\n",
    "    while 1:\n",
    "        for key in data_keys:\n",
    "            n += 1\n",
    "            captions = mapping[key]\n",
    "            # process each caption\n",
    "            # encode the sequence\n",
    "            # split the sequence into X, y pairs\n",
    "            # split into input and output pairs\n",
    "            # pad input sequence\n",
    "            # encode output sequence\n",
    "            # store the sequences"
   ]
  },
  {
   "cell_type": "markdown",
   "id": "6da3ff07",
   "metadata": {
    "papermill": {
     "duration": 0.068652,
     "end_time": "2023-01-11T19:31:09.775797",
     "exception": false,
     "start_time": "2023-01-11T19:31:09.707145",
     "status": "completed"
    },
    "tags": []
   },
   "source": [
    "Padding sequence normalizes the size of all captions to the max size filling them with zeros for better results."
   ]
  },
  {
   "cell_type": "markdown",
   "id": "2740c5a1",
   "metadata": {
    "papermill": {
     "duration": 0.068858,
     "end_time": "2023-01-11T19:31:09.912957",
     "exception": false,
     "start_time": "2023-01-11T19:31:09.844099",
     "status": "completed"
    },
    "tags": []
   },
   "source": [
    "# Model Creation"
   ]
  },
  {
   "cell_type": "code",
   "execution_count": null,
   "id": "d80a967c",
   "metadata": {
    "execution": {
     "iopub.execute_input": "2023-01-11T19:31:10.052313Z",
     "iopub.status.busy": "2023-01-11T19:31:10.051570Z",
     "iopub.status.idle": "2023-01-11T19:31:12.075393Z",
     "shell.execute_reply": "2023-01-11T19:31:12.074462Z"
    },
    "papermill": {
     "duration": 2.096647,
     "end_time": "2023-01-11T19:31:12.078051",
     "exception": false,
     "start_time": "2023-01-11T19:31:09.981404",
     "status": "completed"
    },
    "tags": []
   },
   "outputs": [],
   "source": [
    "# encoder model\n",
    "# Image feature layers (create Input, dropout and Dense layers)\n",
    "# Input layer will have the shape of the output length of the features from the VGG model\n",
    "# YOUR CODE HERE\n",
    "# sequence feature layers (create Input, Embedding, Dropout and LSTM layers)\n",
    "# YOUR CODE HERE\n",
    "\n",
    "# decoder model (add from previous layes, dense from previous and dense from previous)\n",
    "# YOUR CODE HERE\n",
    "\n",
    "model = Model(inputs=[inputs1, inputs2], outputs=outputs)\n",
    "# compile the model(use the loss function for category outputs)\n",
    "# YOUR CODE HERE\n",
    "\n",
    "# plot the model (optional but useful to understand it)\n",
    "# YOUR CODE HERE"
   ]
  },
  {
   "cell_type": "markdown",
   "id": "981224b5",
   "metadata": {
    "papermill": {
     "duration": 0.070977,
     "end_time": "2023-01-11T19:31:12.366783",
     "exception": false,
     "start_time": "2023-01-11T19:31:12.295806",
     "status": "completed"
    },
    "tags": []
   },
   "source": [
    "# Train Model\n",
    "Now let us train the model"
   ]
  },
  {
   "cell_type": "code",
   "execution_count": null,
   "id": "5e21be89",
   "metadata": {
    "execution": {
     "iopub.execute_input": "2023-01-11T19:31:12.512213Z",
     "iopub.status.busy": "2023-01-11T19:31:12.511955Z",
     "iopub.status.idle": "2023-01-11T19:55:16.170976Z",
     "shell.execute_reply": "2023-01-11T19:55:16.170240Z"
    },
    "papermill": {
     "duration": 1443.734187,
     "end_time": "2023-01-11T19:55:16.173224",
     "exception": false,
     "start_time": "2023-01-11T19:31:12.439037",
     "status": "completed"
    },
    "tags": []
   },
   "outputs": [],
   "source": [
    "# train the model\n",
    "epochs = 20\n",
    "batch_size = 32\n",
    "steps = len(train) // batch_size\n",
    "\n",
    "for i in range(epochs):\n",
    "    # create data generator\n",
    "    # YOUR CODE HERE\n",
    "    # fit for one epoch\n",
    "    # YOUR CODE HERE"
   ]
  },
  {
   "cell_type": "markdown",
   "id": "1a98bc9e",
   "metadata": {
    "papermill": {
     "duration": 1.364721,
     "end_time": "2023-01-11T19:55:18.966037",
     "exception": false,
     "start_time": "2023-01-11T19:55:17.601316",
     "status": "completed"
    },
    "tags": []
   },
   "source": [
    "+ **steps = len(train) // batch_size** - back propagation and fetch the next data\n",
    "\n",
    "+ Loss decreases gradually over the iterations\n",
    "\n",
    "+ Increase the no. of epochs for better results\n",
    "\n",
    "+ Assign the no. of epochs and batch size accordingly for quicker results\n",
    "\n",
    "\n",
    "### You can save the model in the working directory for reuse"
   ]
  },
  {
   "cell_type": "code",
   "execution_count": null,
   "id": "18264643",
   "metadata": {
    "execution": {
     "iopub.execute_input": "2023-01-11T19:55:21.725995Z",
     "iopub.status.busy": "2023-01-11T19:55:21.725688Z",
     "iopub.status.idle": "2023-01-11T19:55:21.857806Z",
     "shell.execute_reply": "2023-01-11T19:55:21.855883Z"
    },
    "papermill": {
     "duration": 1.513138,
     "end_time": "2023-01-11T19:55:21.859616",
     "exception": false,
     "start_time": "2023-01-11T19:55:20.346478",
     "status": "completed"
    },
    "tags": []
   },
   "outputs": [],
   "source": [
    "# save the model\n",
    "# YOUR CODE HERE"
   ]
  },
  {
   "cell_type": "markdown",
   "id": "6238934b",
   "metadata": {
    "papermill": {
     "duration": 1.37392,
     "end_time": "2023-01-11T19:55:24.631026",
     "exception": false,
     "start_time": "2023-01-11T19:55:23.257106",
     "status": "completed"
    },
    "tags": []
   },
   "source": [
    "# Generate Captions for the Image"
   ]
  },
  {
   "cell_type": "code",
   "execution_count": null,
   "id": "a538f8c9",
   "metadata": {
    "execution": {
     "iopub.execute_input": "2023-01-11T19:55:27.853380Z",
     "iopub.status.busy": "2023-01-11T19:55:27.852541Z",
     "iopub.status.idle": "2023-01-11T19:55:27.857412Z",
     "shell.execute_reply": "2023-01-11T19:55:27.856645Z"
    },
    "papermill": {
     "duration": 1.542835,
     "end_time": "2023-01-11T19:55:27.859407",
     "exception": false,
     "start_time": "2023-01-11T19:55:26.316572",
     "status": "completed"
    },
    "tags": []
   },
   "outputs": [],
   "source": [
    "def idx_to_word(integer, tokenizer):\n",
    "    for word, index in tokenizer.word_index.items():\n",
    "        if index == integer:\n",
    "            return word\n",
    "    return None"
   ]
  },
  {
   "cell_type": "markdown",
   "id": "24a5e36f",
   "metadata": {
    "papermill": {
     "duration": 1.483898,
     "end_time": "2023-01-11T19:55:30.826321",
     "exception": false,
     "start_time": "2023-01-11T19:55:29.342423",
     "status": "completed"
    },
    "tags": []
   },
   "source": [
    "+ Convert the predicted index from the model into a word"
   ]
  },
  {
   "cell_type": "code",
   "execution_count": null,
   "id": "14f96de3",
   "metadata": {
    "execution": {
     "iopub.execute_input": "2023-01-11T19:55:33.630463Z",
     "iopub.status.busy": "2023-01-11T19:55:33.630186Z",
     "iopub.status.idle": "2023-01-11T19:55:33.636889Z",
     "shell.execute_reply": "2023-01-11T19:55:33.636065Z"
    },
    "papermill": {
     "duration": 1.395959,
     "end_time": "2023-01-11T19:55:33.638729",
     "exception": false,
     "start_time": "2023-01-11T19:55:32.242770",
     "status": "completed"
    },
    "tags": []
   },
   "outputs": [],
   "source": [
    "# generate caption for an image\n",
    "def predict_caption(model, image, tokenizer, max_length):\n",
    "    # add start tag for generation process 'startseq'\n",
    "    # YOUR CODE HERE\n",
    "    # iterate over the max length of sequence\n",
    "    # YOUR CODE HERE\n",
    "    # encode input sequence\n",
    "    # YOUR CODE HERE\n",
    "    # pad the sequence\n",
    "    # YOUR CODE HERE\n",
    "    # predict next word\n",
    "    # YOUR CODE HERE\n",
    "    # get index with high probability\n",
    "    # YOUR CODE HERE\n",
    "    # convert index to word\n",
    "    # YOUR CODE HERE\n",
    "    # stop if word not found\n",
    "    # YOUR CODE HERE\n",
    "    # append word as input for generating next word\n",
    "    # YOUR CODE HERE\n",
    "    # stop if we reach end tag 'endseq'\n",
    "    # YOUR CODE HERE"
   ]
  },
  {
   "cell_type": "markdown",
   "id": "0fb7682f",
   "metadata": {
    "papermill": {
     "duration": 1.926019,
     "end_time": "2023-01-11T19:55:37.132559",
     "exception": false,
     "start_time": "2023-01-11T19:55:35.206540",
     "status": "completed"
    },
    "tags": []
   },
   "source": [
    "+ Captiongenerator appending all the words for an image\n",
    "\n",
    "+ The caption starts with 'startseq' and the model continues to predict the caption until the 'endseq' appeared"
   ]
  },
  {
   "cell_type": "markdown",
   "id": "0c91a11d",
   "metadata": {
    "papermill": {
     "duration": 1.396509,
     "end_time": "2023-01-11T19:55:40.022296",
     "exception": false,
     "start_time": "2023-01-11T19:55:38.625787",
     "status": "completed"
    },
    "tags": []
   },
   "source": [
    "# Model Validation\n",
    "Now we validate the data using BLEU Score"
   ]
  },
  {
   "cell_type": "code",
   "execution_count": null,
   "id": "11036380",
   "metadata": {
    "execution": {
     "iopub.execute_input": "2023-01-11T19:55:42.820864Z",
     "iopub.status.busy": "2023-01-11T19:55:42.820527Z",
     "iopub.status.idle": "2023-01-11T20:01:34.542592Z",
     "shell.execute_reply": "2023-01-11T20:01:34.541661Z"
    },
    "papermill": {
     "duration": 353.130103,
     "end_time": "2023-01-11T20:01:34.545194",
     "exception": false,
     "start_time": "2023-01-11T19:55:41.415091",
     "status": "completed"
    },
    "tags": []
   },
   "outputs": [],
   "source": [
    "from nltk.translate.bleu_score import corpus_bleu\n",
    "# validate with test data\n",
    "actual, predicted = list(), list()\n",
    "\n",
    "for key in tqdm(test):\n",
    "    # get actual caption\n",
    "    # YOUR CODE HERE\n",
    "    # predict the caption for image\n",
    "    # YOUR CODE HERE\n",
    "    # split into words\n",
    "    # YOUR CODE HERE\n",
    "    # append to the list\n",
    "    # YOUR CODE HERE\n",
    "\n",
    "    # calcuate BLEU score and print for BLEU-1 with weights=(1.0, 0, 0, 0)\n",
    "# and for BLEU-2 with weights=(0.5, 0.5, 0, 0)\n",
    "# YOUR CODE HERE"
   ]
  },
  {
   "cell_type": "markdown",
   "id": "a7bcfa5a",
   "metadata": {
    "papermill": {
     "duration": 1.399689,
     "end_time": "2023-01-11T20:01:37.314754",
     "exception": false,
     "start_time": "2023-01-11T20:01:35.915065",
     "status": "completed"
    },
    "tags": []
   },
   "source": [
    "+ BLEU Score is used to evaluate the predicted text against a reference text, in a list of tokens.\n",
    "\n",
    "+ The reference text contains all the words appended from the captions data (actual_captions)\n",
    "\n",
    "+ A BLEU Score more than **0.4 is considered a good result**, for a better score increase the no. of epochs accordingly."
   ]
  },
  {
   "cell_type": "markdown",
   "id": "5c60bf07",
   "metadata": {
    "papermill": {
     "duration": 1.677697,
     "end_time": "2023-01-11T20:01:40.362319",
     "exception": false,
     "start_time": "2023-01-11T20:01:38.684622",
     "status": "completed"
    },
    "tags": []
   },
   "source": [
    "## Visualize the Results"
   ]
  },
  {
   "cell_type": "code",
   "execution_count": null,
   "id": "064936de",
   "metadata": {
    "execution": {
     "iopub.execute_input": "2023-01-11T20:01:43.184736Z",
     "iopub.status.busy": "2023-01-11T20:01:43.184451Z",
     "iopub.status.idle": "2023-01-11T20:01:43.190329Z",
     "shell.execute_reply": "2023-01-11T20:01:43.189629Z"
    },
    "papermill": {
     "duration": 1.416861,
     "end_time": "2023-01-11T20:01:43.192153",
     "exception": false,
     "start_time": "2023-01-11T20:01:41.775292",
     "status": "completed"
    },
    "tags": []
   },
   "outputs": [],
   "source": [
    "from PIL import Image\n",
    "import matplotlib.pyplot as plt\n",
    "def generate_caption(image_name):\n",
    "    # load the image\n",
    "    # YOUR CODE HERE\n",
    "    print('---------------------Actual---------------------')\n",
    "    # print the actual caption \n",
    "    # YOUR CODE HERE\n",
    "    # predict the caption\n",
    "    # YOUR CODE HERE\n",
    "    print('--------------------Predicted--------------------')\n",
    "    # print the predicted caption\n",
    "    # YOUR CODE HERE"
   ]
  },
  {
   "cell_type": "markdown",
   "id": "44295d1d",
   "metadata": {
    "papermill": {
     "duration": 1.388511,
     "end_time": "2023-01-11T20:01:45.977883",
     "exception": false,
     "start_time": "2023-01-11T20:01:44.589372",
     "status": "completed"
    },
    "tags": []
   },
   "source": [
    "+ Image caption generator defined\n",
    "\n",
    "+ First prints the actual captions of the image then prints a predicted caption of the image"
   ]
  },
  {
   "cell_type": "code",
   "execution_count": null,
   "id": "9bacabea",
   "metadata": {
    "execution": {
     "iopub.execute_input": "2023-01-11T20:01:48.826014Z",
     "iopub.status.busy": "2023-01-11T20:01:48.825743Z",
     "iopub.status.idle": "2023-01-11T20:01:49.512839Z",
     "shell.execute_reply": "2023-01-11T20:01:49.512109Z"
    },
    "papermill": {
     "duration": 2.108591,
     "end_time": "2023-01-11T20:01:49.514817",
     "exception": false,
     "start_time": "2023-01-11T20:01:47.406226",
     "status": "completed"
    },
    "tags": []
   },
   "outputs": [],
   "source": [
    "# visualize the result for some images \n",
    "# YOUR CODE HERE"
   ]
  },
  {
   "cell_type": "markdown",
   "id": "89b370b0",
   "metadata": {
    "papermill": {
     "duration": 1.410176,
     "end_time": "2023-01-11T20:01:59.837577",
     "exception": false,
     "start_time": "2023-01-11T20:01:58.427401",
     "status": "completed"
    },
    "tags": []
   },
   "source": [
    "# Final Thoughts\n",
    "\n",
    "Please share you thoughts to have better and more accurate results."
   ]
  },
  {
   "cell_type": "code",
   "execution_count": null,
   "id": "4d8a69a2",
   "metadata": {
    "papermill": {
     "duration": 1.661779,
     "end_time": "2023-01-11T20:02:02.966429",
     "exception": false,
     "start_time": "2023-01-11T20:02:01.304650",
     "status": "completed"
    },
    "tags": []
   },
   "outputs": [],
   "source": []
  },
  {
   "cell_type": "code",
   "execution_count": null,
   "id": "cd8ab446",
   "metadata": {
    "papermill": {
     "duration": 1.391579,
     "end_time": "2023-01-11T20:02:05.761811",
     "exception": false,
     "start_time": "2023-01-11T20:02:04.370232",
     "status": "completed"
    },
    "tags": []
   },
   "outputs": [],
   "source": []
  }
 ],
 "metadata": {
  "kernelspec": {
   "display_name": "Python 3 (ipykernel)",
   "language": "python",
   "name": "python3"
  },
  "language_info": {
   "codemirror_mode": {
    "name": "ipython",
    "version": 3
   },
   "file_extension": ".py",
   "mimetype": "text/x-python",
   "name": "python",
   "nbconvert_exporter": "python",
   "pygments_lexer": "ipython3",
   "version": "3.9.12"
  },
  "papermill": {
   "default_parameters": {},
   "duration": 2360.884658,
   "end_time": "2023-01-11T20:02:10.626139",
   "environment_variables": {},
   "exception": null,
   "input_path": "__notebook__.ipynb",
   "output_path": "__notebook__.ipynb",
   "parameters": {},
   "start_time": "2023-01-11T19:22:49.741481",
   "version": "2.3.4"
  },
  "widgets": {
   "application/vnd.jupyter.widget-state+json": {
    "state": {
     "01c279ed7fed42078bfeca8a5815696d": {
      "model_module": "@jupyter-widgets/controls",
      "model_module_version": "1.5.0",
      "model_name": "DescriptionStyleModel",
      "state": {
       "_model_module": "@jupyter-widgets/controls",
       "_model_module_version": "1.5.0",
       "_model_name": "DescriptionStyleModel",
       "_view_count": null,
       "_view_module": "@jupyter-widgets/base",
       "_view_module_version": "1.2.0",
       "_view_name": "StyleView",
       "description_width": ""
      }
     },
     "03ddfd1b0cf6432db13d77c2393553f7": {
      "model_module": "@jupyter-widgets/controls",
      "model_module_version": "1.5.0",
      "model_name": "ProgressStyleModel",
      "state": {
       "_model_module": "@jupyter-widgets/controls",
       "_model_module_version": "1.5.0",
       "_model_name": "ProgressStyleModel",
       "_view_count": null,
       "_view_module": "@jupyter-widgets/base",
       "_view_module_version": "1.2.0",
       "_view_name": "StyleView",
       "bar_color": null,
       "description_width": ""
      }
     },
     "03ea91a3d1d447f78e120154df6fec96": {
      "model_module": "@jupyter-widgets/controls",
      "model_module_version": "1.5.0",
      "model_name": "HBoxModel",
      "state": {
       "_dom_classes": [],
       "_model_module": "@jupyter-widgets/controls",
       "_model_module_version": "1.5.0",
       "_model_name": "HBoxModel",
       "_view_count": null,
       "_view_module": "@jupyter-widgets/controls",
       "_view_module_version": "1.5.0",
       "_view_name": "HBoxView",
       "box_style": "",
       "children": [
        "IPY_MODEL_be683e13a53a4c48ad7443fe27057189",
        "IPY_MODEL_54cac0811b334eb4a61b7281ea4b7486",
        "IPY_MODEL_93699f8fdc284105a65b8c46ec09abae"
       ],
       "layout": "IPY_MODEL_bdf24c62a1184858a540dda280a01faf"
      }
     },
     "0a1f919007434841921176683c97373a": {
      "model_module": "@jupyter-widgets/base",
      "model_module_version": "1.2.0",
      "model_name": "LayoutModel",
      "state": {
       "_model_module": "@jupyter-widgets/base",
       "_model_module_version": "1.2.0",
       "_model_name": "LayoutModel",
       "_view_count": null,
       "_view_module": "@jupyter-widgets/base",
       "_view_module_version": "1.2.0",
       "_view_name": "LayoutView",
       "align_content": null,
       "align_items": null,
       "align_self": null,
       "border": null,
       "bottom": null,
       "display": null,
       "flex": null,
       "flex_flow": null,
       "grid_area": null,
       "grid_auto_columns": null,
       "grid_auto_flow": null,
       "grid_auto_rows": null,
       "grid_column": null,
       "grid_gap": null,
       "grid_row": null,
       "grid_template_areas": null,
       "grid_template_columns": null,
       "grid_template_rows": null,
       "height": null,
       "justify_content": null,
       "justify_items": null,
       "left": null,
       "margin": null,
       "max_height": null,
       "max_width": null,
       "min_height": null,
       "min_width": null,
       "object_fit": null,
       "object_position": null,
       "order": null,
       "overflow": null,
       "overflow_x": null,
       "overflow_y": null,
       "padding": null,
       "right": null,
       "top": null,
       "visibility": null,
       "width": null
      }
     },
     "11b08188093a49b5b128625e867a4250": {
      "model_module": "@jupyter-widgets/controls",
      "model_module_version": "1.5.0",
      "model_name": "HTMLModel",
      "state": {
       "_dom_classes": [],
       "_model_module": "@jupyter-widgets/controls",
       "_model_module_version": "1.5.0",
       "_model_name": "HTMLModel",
       "_view_count": null,
       "_view_module": "@jupyter-widgets/controls",
       "_view_module_version": "1.5.0",
       "_view_name": "HTMLView",
       "description": "",
       "description_tooltip": null,
       "layout": "IPY_MODEL_5bedf32305cd45239112d356aea873a5",
       "placeholder": "​",
       "style": "IPY_MODEL_e94d0e7a31284a83a350e21b5d29b17f",
       "value": " 8091/8091 [07:50&lt;00:00, 14.80it/s]"
      }
     },
     "11cf8a61caa546dfbf38ee9736f7088d": {
      "model_module": "@jupyter-widgets/base",
      "model_module_version": "1.2.0",
      "model_name": "LayoutModel",
      "state": {
       "_model_module": "@jupyter-widgets/base",
       "_model_module_version": "1.2.0",
       "_model_name": "LayoutModel",
       "_view_count": null,
       "_view_module": "@jupyter-widgets/base",
       "_view_module_version": "1.2.0",
       "_view_name": "LayoutView",
       "align_content": null,
       "align_items": null,
       "align_self": null,
       "border": null,
       "bottom": null,
       "display": null,
       "flex": null,
       "flex_flow": null,
       "grid_area": null,
       "grid_auto_columns": null,
       "grid_auto_flow": null,
       "grid_auto_rows": null,
       "grid_column": null,
       "grid_gap": null,
       "grid_row": null,
       "grid_template_areas": null,
       "grid_template_columns": null,
       "grid_template_rows": null,
       "height": null,
       "justify_content": null,
       "justify_items": null,
       "left": null,
       "margin": null,
       "max_height": null,
       "max_width": null,
       "min_height": null,
       "min_width": null,
       "object_fit": null,
       "object_position": null,
       "order": null,
       "overflow": null,
       "overflow_x": null,
       "overflow_y": null,
       "padding": null,
       "right": null,
       "top": null,
       "visibility": null,
       "width": null
      }
     },
     "1b0486003776488d9b1be1a1bafb58c8": {
      "model_module": "@jupyter-widgets/base",
      "model_module_version": "1.2.0",
      "model_name": "LayoutModel",
      "state": {
       "_model_module": "@jupyter-widgets/base",
       "_model_module_version": "1.2.0",
       "_model_name": "LayoutModel",
       "_view_count": null,
       "_view_module": "@jupyter-widgets/base",
       "_view_module_version": "1.2.0",
       "_view_name": "LayoutView",
       "align_content": null,
       "align_items": null,
       "align_self": null,
       "border": null,
       "bottom": null,
       "display": null,
       "flex": null,
       "flex_flow": null,
       "grid_area": null,
       "grid_auto_columns": null,
       "grid_auto_flow": null,
       "grid_auto_rows": null,
       "grid_column": null,
       "grid_gap": null,
       "grid_row": null,
       "grid_template_areas": null,
       "grid_template_columns": null,
       "grid_template_rows": null,
       "height": null,
       "justify_content": null,
       "justify_items": null,
       "left": null,
       "margin": null,
       "max_height": null,
       "max_width": null,
       "min_height": null,
       "min_width": null,
       "object_fit": null,
       "object_position": null,
       "order": null,
       "overflow": null,
       "overflow_x": null,
       "overflow_y": null,
       "padding": null,
       "right": null,
       "top": null,
       "visibility": null,
       "width": null
      }
     },
     "20baf86d22dd4cf8ad99635af8ed9590": {
      "model_module": "@jupyter-widgets/controls",
      "model_module_version": "1.5.0",
      "model_name": "HTMLModel",
      "state": {
       "_dom_classes": [],
       "_model_module": "@jupyter-widgets/controls",
       "_model_module_version": "1.5.0",
       "_model_name": "HTMLModel",
       "_view_count": null,
       "_view_module": "@jupyter-widgets/controls",
       "_view_module_version": "1.5.0",
       "_view_name": "HTMLView",
       "description": "",
       "description_tooltip": null,
       "layout": "IPY_MODEL_9537183533f349b1a01b7cbab03ed2fc",
       "placeholder": "​",
       "style": "IPY_MODEL_01c279ed7fed42078bfeca8a5815696d",
       "value": "100%"
      }
     },
     "26c72287aa394f3dbc0d11cbd7e7f571": {
      "model_module": "@jupyter-widgets/controls",
      "model_module_version": "1.5.0",
      "model_name": "DescriptionStyleModel",
      "state": {
       "_model_module": "@jupyter-widgets/controls",
       "_model_module_version": "1.5.0",
       "_model_name": "DescriptionStyleModel",
       "_view_count": null,
       "_view_module": "@jupyter-widgets/base",
       "_view_module_version": "1.2.0",
       "_view_name": "StyleView",
       "description_width": ""
      }
     },
     "276a6c7a80714a78bb044b9b1b76fabd": {
      "model_module": "@jupyter-widgets/controls",
      "model_module_version": "1.5.0",
      "model_name": "DescriptionStyleModel",
      "state": {
       "_model_module": "@jupyter-widgets/controls",
       "_model_module_version": "1.5.0",
       "_model_name": "DescriptionStyleModel",
       "_view_count": null,
       "_view_module": "@jupyter-widgets/base",
       "_view_module_version": "1.2.0",
       "_view_name": "StyleView",
       "description_width": ""
      }
     },
     "54cac0811b334eb4a61b7281ea4b7486": {
      "model_module": "@jupyter-widgets/controls",
      "model_module_version": "1.5.0",
      "model_name": "FloatProgressModel",
      "state": {
       "_dom_classes": [],
       "_model_module": "@jupyter-widgets/controls",
       "_model_module_version": "1.5.0",
       "_model_name": "FloatProgressModel",
       "_view_count": null,
       "_view_module": "@jupyter-widgets/controls",
       "_view_module_version": "1.5.0",
       "_view_name": "ProgressView",
       "bar_style": "success",
       "description": "",
       "description_tooltip": null,
       "layout": "IPY_MODEL_1b0486003776488d9b1be1a1bafb58c8",
       "max": 40456,
       "min": 0,
       "orientation": "horizontal",
       "style": "IPY_MODEL_03ddfd1b0cf6432db13d77c2393553f7",
       "value": 40456
      }
     },
     "597f119ad4de4dffb88cadf2c5eeb485": {
      "model_module": "@jupyter-widgets/base",
      "model_module_version": "1.2.0",
      "model_name": "LayoutModel",
      "state": {
       "_model_module": "@jupyter-widgets/base",
       "_model_module_version": "1.2.0",
       "_model_name": "LayoutModel",
       "_view_count": null,
       "_view_module": "@jupyter-widgets/base",
       "_view_module_version": "1.2.0",
       "_view_name": "LayoutView",
       "align_content": null,
       "align_items": null,
       "align_self": null,
       "border": null,
       "bottom": null,
       "display": null,
       "flex": null,
       "flex_flow": null,
       "grid_area": null,
       "grid_auto_columns": null,
       "grid_auto_flow": null,
       "grid_auto_rows": null,
       "grid_column": null,
       "grid_gap": null,
       "grid_row": null,
       "grid_template_areas": null,
       "grid_template_columns": null,
       "grid_template_rows": null,
       "height": null,
       "justify_content": null,
       "justify_items": null,
       "left": null,
       "margin": null,
       "max_height": null,
       "max_width": null,
       "min_height": null,
       "min_width": null,
       "object_fit": null,
       "object_position": null,
       "order": null,
       "overflow": null,
       "overflow_x": null,
       "overflow_y": null,
       "padding": null,
       "right": null,
       "top": null,
       "visibility": null,
       "width": null
      }
     },
     "5bedf32305cd45239112d356aea873a5": {
      "model_module": "@jupyter-widgets/base",
      "model_module_version": "1.2.0",
      "model_name": "LayoutModel",
      "state": {
       "_model_module": "@jupyter-widgets/base",
       "_model_module_version": "1.2.0",
       "_model_name": "LayoutModel",
       "_view_count": null,
       "_view_module": "@jupyter-widgets/base",
       "_view_module_version": "1.2.0",
       "_view_name": "LayoutView",
       "align_content": null,
       "align_items": null,
       "align_self": null,
       "border": null,
       "bottom": null,
       "display": null,
       "flex": null,
       "flex_flow": null,
       "grid_area": null,
       "grid_auto_columns": null,
       "grid_auto_flow": null,
       "grid_auto_rows": null,
       "grid_column": null,
       "grid_gap": null,
       "grid_row": null,
       "grid_template_areas": null,
       "grid_template_columns": null,
       "grid_template_rows": null,
       "height": null,
       "justify_content": null,
       "justify_items": null,
       "left": null,
       "margin": null,
       "max_height": null,
       "max_width": null,
       "min_height": null,
       "min_width": null,
       "object_fit": null,
       "object_position": null,
       "order": null,
       "overflow": null,
       "overflow_x": null,
       "overflow_y": null,
       "padding": null,
       "right": null,
       "top": null,
       "visibility": null,
       "width": null
      }
     },
     "6a2c34cd0fe04dcba75ab203dda03dd3": {
      "model_module": "@jupyter-widgets/base",
      "model_module_version": "1.2.0",
      "model_name": "LayoutModel",
      "state": {
       "_model_module": "@jupyter-widgets/base",
       "_model_module_version": "1.2.0",
       "_model_name": "LayoutModel",
       "_view_count": null,
       "_view_module": "@jupyter-widgets/base",
       "_view_module_version": "1.2.0",
       "_view_name": "LayoutView",
       "align_content": null,
       "align_items": null,
       "align_self": null,
       "border": null,
       "bottom": null,
       "display": null,
       "flex": null,
       "flex_flow": null,
       "grid_area": null,
       "grid_auto_columns": null,
       "grid_auto_flow": null,
       "grid_auto_rows": null,
       "grid_column": null,
       "grid_gap": null,
       "grid_row": null,
       "grid_template_areas": null,
       "grid_template_columns": null,
       "grid_template_rows": null,
       "height": null,
       "justify_content": null,
       "justify_items": null,
       "left": null,
       "margin": null,
       "max_height": null,
       "max_width": null,
       "min_height": null,
       "min_width": null,
       "object_fit": null,
       "object_position": null,
       "order": null,
       "overflow": null,
       "overflow_x": null,
       "overflow_y": null,
       "padding": null,
       "right": null,
       "top": null,
       "visibility": null,
       "width": null
      }
     },
     "74b89253f850415cb4d11ccb0d1c928b": {
      "model_module": "@jupyter-widgets/base",
      "model_module_version": "1.2.0",
      "model_name": "LayoutModel",
      "state": {
       "_model_module": "@jupyter-widgets/base",
       "_model_module_version": "1.2.0",
       "_model_name": "LayoutModel",
       "_view_count": null,
       "_view_module": "@jupyter-widgets/base",
       "_view_module_version": "1.2.0",
       "_view_name": "LayoutView",
       "align_content": null,
       "align_items": null,
       "align_self": null,
       "border": null,
       "bottom": null,
       "display": null,
       "flex": null,
       "flex_flow": null,
       "grid_area": null,
       "grid_auto_columns": null,
       "grid_auto_flow": null,
       "grid_auto_rows": null,
       "grid_column": null,
       "grid_gap": null,
       "grid_row": null,
       "grid_template_areas": null,
       "grid_template_columns": null,
       "grid_template_rows": null,
       "height": null,
       "justify_content": null,
       "justify_items": null,
       "left": null,
       "margin": null,
       "max_height": null,
       "max_width": null,
       "min_height": null,
       "min_width": null,
       "object_fit": null,
       "object_position": null,
       "order": null,
       "overflow": null,
       "overflow_x": null,
       "overflow_y": null,
       "padding": null,
       "right": null,
       "top": null,
       "visibility": null,
       "width": null
      }
     },
     "74d168df132145e3aec3c913e490d9a5": {
      "model_module": "@jupyter-widgets/base",
      "model_module_version": "1.2.0",
      "model_name": "LayoutModel",
      "state": {
       "_model_module": "@jupyter-widgets/base",
       "_model_module_version": "1.2.0",
       "_model_name": "LayoutModel",
       "_view_count": null,
       "_view_module": "@jupyter-widgets/base",
       "_view_module_version": "1.2.0",
       "_view_name": "LayoutView",
       "align_content": null,
       "align_items": null,
       "align_self": null,
       "border": null,
       "bottom": null,
       "display": null,
       "flex": null,
       "flex_flow": null,
       "grid_area": null,
       "grid_auto_columns": null,
       "grid_auto_flow": null,
       "grid_auto_rows": null,
       "grid_column": null,
       "grid_gap": null,
       "grid_row": null,
       "grid_template_areas": null,
       "grid_template_columns": null,
       "grid_template_rows": null,
       "height": null,
       "justify_content": null,
       "justify_items": null,
       "left": null,
       "margin": null,
       "max_height": null,
       "max_width": null,
       "min_height": null,
       "min_width": null,
       "object_fit": null,
       "object_position": null,
       "order": null,
       "overflow": null,
       "overflow_x": null,
       "overflow_y": null,
       "padding": null,
       "right": null,
       "top": null,
       "visibility": null,
       "width": null
      }
     },
     "7d8f3ac4b23441e389d838acff32ed4b": {
      "model_module": "@jupyter-widgets/controls",
      "model_module_version": "1.5.0",
      "model_name": "HTMLModel",
      "state": {
       "_dom_classes": [],
       "_model_module": "@jupyter-widgets/controls",
       "_model_module_version": "1.5.0",
       "_model_name": "HTMLModel",
       "_view_count": null,
       "_view_module": "@jupyter-widgets/controls",
       "_view_module_version": "1.5.0",
       "_view_name": "HTMLView",
       "description": "",
       "description_tooltip": null,
       "layout": "IPY_MODEL_d0ef6058fa6a48a2a6a8d1837a34c092",
       "placeholder": "​",
       "style": "IPY_MODEL_8c8362107edb4e7eb51eb8cb2667e0a8",
       "value": " 810/810 [05:49&lt;00:00,  2.71it/s]"
      }
     },
     "88b257a9ed914ff98f0a3726e3a23720": {
      "model_module": "@jupyter-widgets/base",
      "model_module_version": "1.2.0",
      "model_name": "LayoutModel",
      "state": {
       "_model_module": "@jupyter-widgets/base",
       "_model_module_version": "1.2.0",
       "_model_name": "LayoutModel",
       "_view_count": null,
       "_view_module": "@jupyter-widgets/base",
       "_view_module_version": "1.2.0",
       "_view_name": "LayoutView",
       "align_content": null,
       "align_items": null,
       "align_self": null,
       "border": null,
       "bottom": null,
       "display": null,
       "flex": null,
       "flex_flow": null,
       "grid_area": null,
       "grid_auto_columns": null,
       "grid_auto_flow": null,
       "grid_auto_rows": null,
       "grid_column": null,
       "grid_gap": null,
       "grid_row": null,
       "grid_template_areas": null,
       "grid_template_columns": null,
       "grid_template_rows": null,
       "height": null,
       "justify_content": null,
       "justify_items": null,
       "left": null,
       "margin": null,
       "max_height": null,
       "max_width": null,
       "min_height": null,
       "min_width": null,
       "object_fit": null,
       "object_position": null,
       "order": null,
       "overflow": null,
       "overflow_x": null,
       "overflow_y": null,
       "padding": null,
       "right": null,
       "top": null,
       "visibility": null,
       "width": null
      }
     },
     "899bb3089e784807aba1d06c2192c471": {
      "model_module": "@jupyter-widgets/controls",
      "model_module_version": "1.5.0",
      "model_name": "DescriptionStyleModel",
      "state": {
       "_model_module": "@jupyter-widgets/controls",
       "_model_module_version": "1.5.0",
       "_model_name": "DescriptionStyleModel",
       "_view_count": null,
       "_view_module": "@jupyter-widgets/base",
       "_view_module_version": "1.2.0",
       "_view_name": "StyleView",
       "description_width": ""
      }
     },
     "8c8362107edb4e7eb51eb8cb2667e0a8": {
      "model_module": "@jupyter-widgets/controls",
      "model_module_version": "1.5.0",
      "model_name": "DescriptionStyleModel",
      "state": {
       "_model_module": "@jupyter-widgets/controls",
       "_model_module_version": "1.5.0",
       "_model_name": "DescriptionStyleModel",
       "_view_count": null,
       "_view_module": "@jupyter-widgets/base",
       "_view_module_version": "1.2.0",
       "_view_name": "StyleView",
       "description_width": ""
      }
     },
     "8e11fe4a96ad4fafb8b10cdcb77197f2": {
      "model_module": "@jupyter-widgets/controls",
      "model_module_version": "1.5.0",
      "model_name": "FloatProgressModel",
      "state": {
       "_dom_classes": [],
       "_model_module": "@jupyter-widgets/controls",
       "_model_module_version": "1.5.0",
       "_model_name": "FloatProgressModel",
       "_view_count": null,
       "_view_module": "@jupyter-widgets/controls",
       "_view_module_version": "1.5.0",
       "_view_name": "ProgressView",
       "bar_style": "success",
       "description": "",
       "description_tooltip": null,
       "layout": "IPY_MODEL_74d168df132145e3aec3c913e490d9a5",
       "max": 810,
       "min": 0,
       "orientation": "horizontal",
       "style": "IPY_MODEL_b23799e11be745d8985cfb65cd522498",
       "value": 810
      }
     },
     "93699f8fdc284105a65b8c46ec09abae": {
      "model_module": "@jupyter-widgets/controls",
      "model_module_version": "1.5.0",
      "model_name": "HTMLModel",
      "state": {
       "_dom_classes": [],
       "_model_module": "@jupyter-widgets/controls",
       "_model_module_version": "1.5.0",
       "_model_name": "HTMLModel",
       "_view_count": null,
       "_view_module": "@jupyter-widgets/controls",
       "_view_module_version": "1.5.0",
       "_view_name": "HTMLView",
       "description": "",
       "description_tooltip": null,
       "layout": "IPY_MODEL_88b257a9ed914ff98f0a3726e3a23720",
       "placeholder": "​",
       "style": "IPY_MODEL_26c72287aa394f3dbc0d11cbd7e7f571",
       "value": " 40456/40456 [00:00&lt;00:00, 403517.09it/s]"
      }
     },
     "9537183533f349b1a01b7cbab03ed2fc": {
      "model_module": "@jupyter-widgets/base",
      "model_module_version": "1.2.0",
      "model_name": "LayoutModel",
      "state": {
       "_model_module": "@jupyter-widgets/base",
       "_model_module_version": "1.2.0",
       "_model_name": "LayoutModel",
       "_view_count": null,
       "_view_module": "@jupyter-widgets/base",
       "_view_module_version": "1.2.0",
       "_view_name": "LayoutView",
       "align_content": null,
       "align_items": null,
       "align_self": null,
       "border": null,
       "bottom": null,
       "display": null,
       "flex": null,
       "flex_flow": null,
       "grid_area": null,
       "grid_auto_columns": null,
       "grid_auto_flow": null,
       "grid_auto_rows": null,
       "grid_column": null,
       "grid_gap": null,
       "grid_row": null,
       "grid_template_areas": null,
       "grid_template_columns": null,
       "grid_template_rows": null,
       "height": null,
       "justify_content": null,
       "justify_items": null,
       "left": null,
       "margin": null,
       "max_height": null,
       "max_width": null,
       "min_height": null,
       "min_width": null,
       "object_fit": null,
       "object_position": null,
       "order": null,
       "overflow": null,
       "overflow_x": null,
       "overflow_y": null,
       "padding": null,
       "right": null,
       "top": null,
       "visibility": null,
       "width": null
      }
     },
     "a6c1b7f358e24c4c979443143dec8a8a": {
      "model_module": "@jupyter-widgets/controls",
      "model_module_version": "1.5.0",
      "model_name": "HBoxModel",
      "state": {
       "_dom_classes": [],
       "_model_module": "@jupyter-widgets/controls",
       "_model_module_version": "1.5.0",
       "_model_name": "HBoxModel",
       "_view_count": null,
       "_view_module": "@jupyter-widgets/controls",
       "_view_module_version": "1.5.0",
       "_view_name": "HBoxView",
       "box_style": "",
       "children": [
        "IPY_MODEL_dbf71d91c59a442ba8a47ec4b971c3a4",
        "IPY_MODEL_8e11fe4a96ad4fafb8b10cdcb77197f2",
        "IPY_MODEL_7d8f3ac4b23441e389d838acff32ed4b"
       ],
       "layout": "IPY_MODEL_6a2c34cd0fe04dcba75ab203dda03dd3"
      }
     },
     "b134580384734cd89bfd39ce3a4c30d7": {
      "model_module": "@jupyter-widgets/controls",
      "model_module_version": "1.5.0",
      "model_name": "ProgressStyleModel",
      "state": {
       "_model_module": "@jupyter-widgets/controls",
       "_model_module_version": "1.5.0",
       "_model_name": "ProgressStyleModel",
       "_view_count": null,
       "_view_module": "@jupyter-widgets/base",
       "_view_module_version": "1.2.0",
       "_view_name": "StyleView",
       "bar_color": null,
       "description_width": ""
      }
     },
     "b23799e11be745d8985cfb65cd522498": {
      "model_module": "@jupyter-widgets/controls",
      "model_module_version": "1.5.0",
      "model_name": "ProgressStyleModel",
      "state": {
       "_model_module": "@jupyter-widgets/controls",
       "_model_module_version": "1.5.0",
       "_model_name": "ProgressStyleModel",
       "_view_count": null,
       "_view_module": "@jupyter-widgets/base",
       "_view_module_version": "1.2.0",
       "_view_name": "StyleView",
       "bar_color": null,
       "description_width": ""
      }
     },
     "bdf24c62a1184858a540dda280a01faf": {
      "model_module": "@jupyter-widgets/base",
      "model_module_version": "1.2.0",
      "model_name": "LayoutModel",
      "state": {
       "_model_module": "@jupyter-widgets/base",
       "_model_module_version": "1.2.0",
       "_model_name": "LayoutModel",
       "_view_count": null,
       "_view_module": "@jupyter-widgets/base",
       "_view_module_version": "1.2.0",
       "_view_name": "LayoutView",
       "align_content": null,
       "align_items": null,
       "align_self": null,
       "border": null,
       "bottom": null,
       "display": null,
       "flex": null,
       "flex_flow": null,
       "grid_area": null,
       "grid_auto_columns": null,
       "grid_auto_flow": null,
       "grid_auto_rows": null,
       "grid_column": null,
       "grid_gap": null,
       "grid_row": null,
       "grid_template_areas": null,
       "grid_template_columns": null,
       "grid_template_rows": null,
       "height": null,
       "justify_content": null,
       "justify_items": null,
       "left": null,
       "margin": null,
       "max_height": null,
       "max_width": null,
       "min_height": null,
       "min_width": null,
       "object_fit": null,
       "object_position": null,
       "order": null,
       "overflow": null,
       "overflow_x": null,
       "overflow_y": null,
       "padding": null,
       "right": null,
       "top": null,
       "visibility": null,
       "width": null
      }
     },
     "be683e13a53a4c48ad7443fe27057189": {
      "model_module": "@jupyter-widgets/controls",
      "model_module_version": "1.5.0",
      "model_name": "HTMLModel",
      "state": {
       "_dom_classes": [],
       "_model_module": "@jupyter-widgets/controls",
       "_model_module_version": "1.5.0",
       "_model_name": "HTMLModel",
       "_view_count": null,
       "_view_module": "@jupyter-widgets/controls",
       "_view_module_version": "1.5.0",
       "_view_name": "HTMLView",
       "description": "",
       "description_tooltip": null,
       "layout": "IPY_MODEL_597f119ad4de4dffb88cadf2c5eeb485",
       "placeholder": "​",
       "style": "IPY_MODEL_276a6c7a80714a78bb044b9b1b76fabd",
       "value": "100%"
      }
     },
     "cb9dbbd74f63428aacc73e33b020fed7": {
      "model_module": "@jupyter-widgets/controls",
      "model_module_version": "1.5.0",
      "model_name": "FloatProgressModel",
      "state": {
       "_dom_classes": [],
       "_model_module": "@jupyter-widgets/controls",
       "_model_module_version": "1.5.0",
       "_model_name": "FloatProgressModel",
       "_view_count": null,
       "_view_module": "@jupyter-widgets/controls",
       "_view_module_version": "1.5.0",
       "_view_name": "ProgressView",
       "bar_style": "success",
       "description": "",
       "description_tooltip": null,
       "layout": "IPY_MODEL_0a1f919007434841921176683c97373a",
       "max": 8091,
       "min": 0,
       "orientation": "horizontal",
       "style": "IPY_MODEL_b134580384734cd89bfd39ce3a4c30d7",
       "value": 8091
      }
     },
     "d0ef6058fa6a48a2a6a8d1837a34c092": {
      "model_module": "@jupyter-widgets/base",
      "model_module_version": "1.2.0",
      "model_name": "LayoutModel",
      "state": {
       "_model_module": "@jupyter-widgets/base",
       "_model_module_version": "1.2.0",
       "_model_name": "LayoutModel",
       "_view_count": null,
       "_view_module": "@jupyter-widgets/base",
       "_view_module_version": "1.2.0",
       "_view_name": "LayoutView",
       "align_content": null,
       "align_items": null,
       "align_self": null,
       "border": null,
       "bottom": null,
       "display": null,
       "flex": null,
       "flex_flow": null,
       "grid_area": null,
       "grid_auto_columns": null,
       "grid_auto_flow": null,
       "grid_auto_rows": null,
       "grid_column": null,
       "grid_gap": null,
       "grid_row": null,
       "grid_template_areas": null,
       "grid_template_columns": null,
       "grid_template_rows": null,
       "height": null,
       "justify_content": null,
       "justify_items": null,
       "left": null,
       "margin": null,
       "max_height": null,
       "max_width": null,
       "min_height": null,
       "min_width": null,
       "object_fit": null,
       "object_position": null,
       "order": null,
       "overflow": null,
       "overflow_x": null,
       "overflow_y": null,
       "padding": null,
       "right": null,
       "top": null,
       "visibility": null,
       "width": null
      }
     },
     "dbf71d91c59a442ba8a47ec4b971c3a4": {
      "model_module": "@jupyter-widgets/controls",
      "model_module_version": "1.5.0",
      "model_name": "HTMLModel",
      "state": {
       "_dom_classes": [],
       "_model_module": "@jupyter-widgets/controls",
       "_model_module_version": "1.5.0",
       "_model_name": "HTMLModel",
       "_view_count": null,
       "_view_module": "@jupyter-widgets/controls",
       "_view_module_version": "1.5.0",
       "_view_name": "HTMLView",
       "description": "",
       "description_tooltip": null,
       "layout": "IPY_MODEL_11cf8a61caa546dfbf38ee9736f7088d",
       "placeholder": "​",
       "style": "IPY_MODEL_899bb3089e784807aba1d06c2192c471",
       "value": "100%"
      }
     },
     "e94d0e7a31284a83a350e21b5d29b17f": {
      "model_module": "@jupyter-widgets/controls",
      "model_module_version": "1.5.0",
      "model_name": "DescriptionStyleModel",
      "state": {
       "_model_module": "@jupyter-widgets/controls",
       "_model_module_version": "1.5.0",
       "_model_name": "DescriptionStyleModel",
       "_view_count": null,
       "_view_module": "@jupyter-widgets/base",
       "_view_module_version": "1.2.0",
       "_view_name": "StyleView",
       "description_width": ""
      }
     },
     "ebfbf38d5c8a47e48982026c14a38aa9": {
      "model_module": "@jupyter-widgets/controls",
      "model_module_version": "1.5.0",
      "model_name": "HBoxModel",
      "state": {
       "_dom_classes": [],
       "_model_module": "@jupyter-widgets/controls",
       "_model_module_version": "1.5.0",
       "_model_name": "HBoxModel",
       "_view_count": null,
       "_view_module": "@jupyter-widgets/controls",
       "_view_module_version": "1.5.0",
       "_view_name": "HBoxView",
       "box_style": "",
       "children": [
        "IPY_MODEL_20baf86d22dd4cf8ad99635af8ed9590",
        "IPY_MODEL_cb9dbbd74f63428aacc73e33b020fed7",
        "IPY_MODEL_11b08188093a49b5b128625e867a4250"
       ],
       "layout": "IPY_MODEL_74b89253f850415cb4d11ccb0d1c928b"
      }
     }
    },
    "version_major": 2,
    "version_minor": 0
   }
  }
 },
 "nbformat": 4,
 "nbformat_minor": 5
}
